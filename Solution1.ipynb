{
 "cells": [
  {
   "attachments": {},
   "cell_type": "markdown",
   "metadata": {},
   "source": [
    "## Traffic Light Puzzle\n"
   ]
  },
  {
   "cell_type": "code",
   "execution_count": 1,
   "metadata": {},
   "outputs": [],
   "source": [
    "##Import required packages to use\n",
    "from operator import itemgetter   \n",
    "import pandas as pd"
   ]
  },
  {
   "cell_type": "code",
   "execution_count": 2,
   "metadata": {},
   "outputs": [],
   "source": [
    "\n",
    "class RotateCube:\n",
    "    '''Create a class function to turn a cube along any of the x-y-z axis'''\n",
    "    def __init__(self, Cube):\n",
    "        self.Cube = Cube\n",
    "\n",
    "    def printcube(self):\n",
    "        return self.Cube\n",
    "\n",
    "    @classmethod\n",
    "    def TurnDown(cls, cubename): \n",
    "        '''Rotates the cube down along x-axis. Once rotated, the top side of the cube \n",
    "        will be the front side'''\n",
    "        ## \"Front\",\"Top\", \"Back\",  \"Bottom\", \"Left\",  \"Right\" ##\n",
    "        ##   0       1      2         3        4        5     ##\n",
    "        Cube = cubename[1:4]+[cubename[0]]+cubename[4:6]\n",
    "        return Cube\n",
    "    \n",
    "    @classmethod\n",
    "    def TurnUp(cls, cubename):  \n",
    "        '''Rotates the cube up along the x-axis. Once rotated, the bottom side of the cube \n",
    "        will be the front side'''\n",
    "        Cube = list(itemgetter(3,2,1,0,4,5)(cubename))\n",
    "        return Cube\n",
    "    \n",
    "    @classmethod\n",
    "    def TurnRight(cls, cubename): \n",
    "        '''Rotates the cube right along the y-axis.Once rotated, the left side of the cube \n",
    "        will be the front side'''\n",
    "        Cube = list(itemgetter(4,1,5,3,2,0)(cubename))\n",
    "        return Cube\n",
    "    \n",
    "    @classmethod\n",
    "    def TurnLeft(cls, cubename): \n",
    "        '''Rotates the cube left along the y-axis. Once rotated, the right side of the cube \n",
    "        will be the front side'''\n",
    "        Cube = list(itemgetter(5,1,4,3,0,2)(cubename))\n",
    "        return Cube\n",
    "\n",
    "    @classmethod\n",
    "    def TurnRight_Z(cls, cubename): \n",
    "        '''Rotates the cube right along the x-axis. Once rotated, the front and back sides remain\n",
    "        the same, but the left side of the cube goes to the top side of the cube'''\n",
    "        Cube = list(itemgetter(0,4,2,5,3,1)(cubename))\n",
    "        return Cube\n",
    "\n",
    "    @classmethod\n",
    "    def TurnLeft_Z(cls, cubename): \n",
    "        '''Rotates the cube left along the x-axis. Once rotated, the front and back sides remain\n",
    "        the same, but the right side of the cube goes to the top side of the cube'''\n",
    "        Cube = list(itemgetter(0,5,2,4,1,3)(cubename))\n",
    "        return Cube"
   ]
  },
  {
   "cell_type": "code",
   "execution_count": 3,
   "metadata": {},
   "outputs": [],
   "source": [
    "## initialize each cube\n",
    "   ## \"Front\",\"Top\", \"Back\",  \"Bottom\", \"Left\",  \"Right\" ##\n",
    "cube=[[\"Red\",  \"Red\", \"Red\",   \"Green\",  \"Blue\",  \"Yellow\"],    ##cube 1\n",
    "      [\"Blue\", \"Red\", \"Red\",   \"Yellow\", \"Green\", \"Yellow\"],    ##cube 2\n",
    "      [\"Blue\", \"Blue\", \"Red\",  \"Yellow\", \"Green\", \"Green\"],     ##cube 3\n",
    "      [\"Red\",  \"Green\",\"Green\",\"Yellow\", \"Blue\",  \"Yellow\"]]    ##cube 4\n",
    "\n",
    "## Create an instance of each cube in our \"RotateCube\" Class\n",
    "CubesClass=[RotateCube(cube[0]), RotateCube(cube[1]), RotateCube(cube[2]), RotateCube(cube[3])]"
   ]
  },
  {
   "cell_type": "code",
   "execution_count": 4,
   "metadata": {
    "scrolled": true
   },
   "outputs": [],
   "source": [
    "## For each cube, rotate 6 times using each the \"classmethod\" in the \"RotateCube\" class.  \n",
    "CubeLayout=[[] for _ in range(0,4)]\n",
    "for i in range(0,4):\n",
    "    CubeLayout[i]=[RotateCube(RotateCube.TurnDown(CubesClass[i].Cube)),   RotateCube(RotateCube.TurnUp(CubesClass[i].Cube)),\n",
    "          RotateCube(RotateCube.TurnLeft(CubesClass[i].Cube)) ,  RotateCube(RotateCube.TurnRight(CubesClass[i].Cube)),\n",
    "          RotateCube(RotateCube.TurnLeft_Z(CubesClass[i].Cube)), RotateCube(RotateCube.TurnRight_Z(CubesClass[i].Cube))]"
   ]
  },
  {
   "cell_type": "code",
   "execution_count": 5,
   "metadata": {},
   "outputs": [],
   "source": [
    "## From above, get every unique way we can display each cube. There are 24 unique rotations per cube. \n",
    "## NOTE: Because we are stacking the cubes side-by-side, the fouth cube only has 6 degrees of freedom rather 24. \n",
    "\n",
    "combo=[]\n",
    "for h in range(0,4):\n",
    "    for i in range(0,6):\n",
    "        CubesClass[h]=CubeLayout[h][i]\n",
    "        if h<3:\n",
    "            for j in range(0,4):\n",
    "                CubesClass[h]=RotateCube(RotateCube.TurnDown(CubesClass[h].Cube))\n",
    "                combo.append(CubesClass[h].printcube())\n",
    "        else:\n",
    "            CubesClass[h]=CubesClass[h]\n",
    "            combo.append(CubesClass[h].printcube())\n",
    "\n",
    "Cube1_combo=combo[0:24]\n",
    "Cube2_combo=combo[24:48]\n",
    "Cube3_combo=combo[48:72]\n",
    "Cube4_combo=combo[72:]"
   ]
  },
  {
   "cell_type": "code",
   "execution_count": 6,
   "metadata": {
    "scrolled": true
   },
   "outputs": [
    {
     "data": {
      "text/html": [
       "<div>\n",
       "<style scoped>\n",
       "    .dataframe tbody tr th:only-of-type {\n",
       "        vertical-align: middle;\n",
       "    }\n",
       "\n",
       "    .dataframe tbody tr th {\n",
       "        vertical-align: top;\n",
       "    }\n",
       "\n",
       "    .dataframe thead th {\n",
       "        text-align: right;\n",
       "    }\n",
       "</style>\n",
       "<table border=\"1\" class=\"dataframe\">\n",
       "  <thead>\n",
       "    <tr style=\"text-align: right;\">\n",
       "      <th></th>\n",
       "      <th>Front</th>\n",
       "      <th>Top</th>\n",
       "      <th>Back</th>\n",
       "      <th>Bottom</th>\n",
       "      <th>Left</th>\n",
       "      <th>Right</th>\n",
       "    </tr>\n",
       "  </thead>\n",
       "  <tbody>\n",
       "    <tr>\n",
       "      <th>Cube 1</th>\n",
       "      <td>Red</td>\n",
       "      <td>Blue</td>\n",
       "      <td>Green</td>\n",
       "      <td>Yellow</td>\n",
       "      <td>Red</td>\n",
       "      <td>Red</td>\n",
       "    </tr>\n",
       "    <tr>\n",
       "      <th>Cube 2</th>\n",
       "      <td>Blue</td>\n",
       "      <td>Yellow</td>\n",
       "      <td>Red</td>\n",
       "      <td>Green</td>\n",
       "      <td>Red</td>\n",
       "      <td>Yellow</td>\n",
       "    </tr>\n",
       "    <tr>\n",
       "      <th>Cube 3</th>\n",
       "      <td>Yellow</td>\n",
       "      <td>Red</td>\n",
       "      <td>Blue</td>\n",
       "      <td>Blue</td>\n",
       "      <td>Green</td>\n",
       "      <td>Green</td>\n",
       "    </tr>\n",
       "    <tr>\n",
       "      <th>Cube 4</th>\n",
       "      <td>Green</td>\n",
       "      <td>Green</td>\n",
       "      <td>Yellow</td>\n",
       "      <td>Red</td>\n",
       "      <td>Blue</td>\n",
       "      <td>Yellow</td>\n",
       "    </tr>\n",
       "  </tbody>\n",
       "</table>\n",
       "</div>"
      ],
      "text/plain": [
       "         Front     Top    Back  Bottom   Left   Right\n",
       "Cube 1     Red    Blue   Green  Yellow    Red     Red\n",
       "Cube 2    Blue  Yellow     Red   Green    Red  Yellow\n",
       "Cube 3  Yellow     Red    Blue    Blue  Green   Green\n",
       "Cube 4   Green   Green  Yellow     Red   Blue  Yellow"
      ]
     },
     "execution_count": 6,
     "metadata": {},
     "output_type": "execute_result"
    }
   ],
   "source": [
    "rotations=0\n",
    "for i in range(0,6): ## This cube has 6 degrees of freedome.  \n",
    "    for j in range(0,24): ## This cube has 24 degrees of freedome.  \n",
    "        for k in range(0,24): ## This cube has 24 degrees of freedome.  \n",
    "            for l in range(0,24): ## This cube has 24 degrees of freedome.\n",
    "                '''Cycle through all possible cube orientations and check for a solution\n",
    "                after each rotation.'''\n",
    "                Check=[Cube1_combo[l]]+[Cube2_combo[k]]+[Cube3_combo[j]]+[Cube4_combo[i]]\n",
    "                rotations+=1\n",
    "                if ((len(set([Check[0][0],Check[1][0],Check[2][0],Check[3][0]]))==4) and   ## Front\n",
    "                    (len(set([Check[0][1],Check[1][1],Check[2][1],Check[3][1]]))==4) and   ## Top\n",
    "                    (len(set([Check[0][2],Check[1][2],Check[2][2],Check[3][2]]))==4) and   ## Back\n",
    "                    (len(set([Check[0][3],Check[1][3],Check[2][3],Check[3][3]]))==4)):     ## Bottom\n",
    "                \n",
    "                    break ## break the loop if we find an orientation where each colour appreas \n",
    "                          ## once on each of the  4 sides.\n",
    "            else:\n",
    "                continue # Continue if the inner loop wasn't broken.\n",
    "            break # only executed if the inner loop DID break\n",
    "        else:\n",
    "            continue # Continue if the inner loop wasn't broken.\n",
    "        break # only executed if the inner loop DID break\n",
    "    else:\n",
    "        continue # Continue if the inner loop wasn't broken.\n",
    "    break # only executed if the inner loop DID break     \n",
    "    \n",
    "## print the final layout of the four cubes\n",
    "pd.DataFrame(Check,columns=[\"Front\",\"Top\",\"Back\",\"Bottom\",\"Left\",\"Right\"],\n",
    "                index=[\"Cube 1\",\"Cube 2\",\"Cube 3\", \"Cube 4\"])"
   ]
  },
  {
   "cell_type": "code",
   "execution_count": 7,
   "metadata": {},
   "outputs": [
    {
     "name": "stdout",
     "output_type": "stream",
     "text": [
      "In total, there are 82944 unique orientations\n",
      "\n",
      "Number of positions per cube: \n",
      " Cube 1: 0 \n",
      " Cube 2: 8 \n",
      " Cube 3: 188 \n",
      " Cube 4: 4497\n",
      "\n",
      "Total number of orientations checked before reaching the solution: 4497 (5.42%)\n"
     ]
    }
   ],
   "source": [
    "print(\"In total, there are \"+str(24*24*24*6)+\" unique orientations\")\n",
    "print(\"\\nNumber of positions per cube:\", \n",
    "      \"\\n Cube 1:\", i, \n",
    "      \"\\n Cube 2:\", j+1,\n",
    "      \"\\n Cube 3:\", j*24+(k+1),\n",
    "      \"\\n Cube 4:\", (j*24+k)*24+(l+1))  \n",
    "\n",
    "print(\"\\nTotal number of orientations checked before reaching the solution:\", rotations, \n",
    "      \"(\"+\"{0:.2%}\".format(rotations/82944)+\")\")"
   ]
  }
 ],
 "metadata": {
  "kernelspec": {
   "display_name": "Python 3",
   "language": "python",
   "name": "python3"
  },
  "language_info": {
   "codemirror_mode": {
    "name": "ipython",
    "version": 3
   },
   "file_extension": ".py",
   "mimetype": "text/x-python",
   "name": "python",
   "nbconvert_exporter": "python",
   "pygments_lexer": "ipython3",
   "version": "3.6.7"
  }
 },
 "nbformat": 4,
 "nbformat_minor": 2
}
